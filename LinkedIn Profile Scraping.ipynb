{
 "cells": [
  {
   "cell_type": "code",
   "execution_count": null,
   "metadata": {},
   "outputs": [],
   "source": [
    "import requests\n",
    "\n",
    "# API endpoint and LinkedIn profile URL\n",
    "api_endpoint = 'https://nubela.co/proxycurl/api/v2/linkedin'\n",
    "linkedin_profile_url = 'https://www.linkedin.com/in/pradipnichite/'\n",
    "\n",
    "# Your Proxycurl API key\n",
    "api_key = 'YOUR_API_KEY_HERE'\n",
    "\n",
    "# Headers for the API request\n",
    "headers = {'Authorization': 'Bearer ' + api_key}\n",
    "\n",
    "# Sending the request to the API\n",
    "response = requests.get(api_endpoint,\n",
    "                        params={'url': linkedin_profile_url, 'skills': 'include'},\n",
    "                        headers=headers)\n",
    "\n",
    "# Parsing the response\n",
    "profile_data = response.json()\n",
    "\n",
    "# Displaying specific profile details\n",
    "print(\"Full Name:\", profile_data['full_name'])\n",
    "print(\"Occupation:\", profile_data['occupation'])\n",
    "print(\"Headline:\", profile_data['headline'])\n",
    "print(\"Summary:\", profile_data['summary'])\n",
    "\n",
    "# Displaying the third experience\n",
    "print(\"Third Experience:\", profile_data['experiences'][2])\n",
    "\n",
    "# Displaying the first education entry\n",
    "print(\"First Education Entry:\", profile_data['education'][0])\n",
    "\n",
    "# Displaying the skills\n",
    "print(\"Skills:\", profile_data['skills'])\n"
   ]
  }
 ],
 "metadata": {
  "kernelspec": {
   "display_name": "Python 3",
   "language": "python",
   "name": "python3"
  },
  "language_info": {
   "codemirror_mode": {
    "name": "ipython",
    "version": 3
   },
   "file_extension": ".py",
   "mimetype": "text/x-python",
   "name": "python",
   "nbconvert_exporter": "python",
   "pygments_lexer": "ipython3",
   "version": "3.8.3"
  }
 },
 "nbformat": 4,
 "nbformat_minor": 4
}
